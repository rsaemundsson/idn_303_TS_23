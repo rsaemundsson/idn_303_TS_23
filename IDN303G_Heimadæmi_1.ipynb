{
 "cells": [
  {
   "cell_type": "markdown",
   "id": "6e9351db",
   "metadata": {},
   "source": [
    "# IÐN303G Tæknileg kerfi - Lausn á Heimadæmi 1"
   ]
  },
  {
   "cell_type": "markdown",
   "id": "74c08f08",
   "metadata": {},
   "source": [
    "## Inngangur\n",
    "Markmiðið með þessu verkefni er að gera fræðilegt líkan af vatnstanki með frjálsu útflæði og nota það til að spá \n",
    "fyrir um jafnvægishæð vatns miðað við gefnar forsendur um flatarmál botnflatar, flatarmál úttaks á botni tanksins og innflæði.\n",
    "\n",
    "Niðurstöður verkefnisins eru settar fram í þessu Jupyter skjali. Fyrst er fræðilegt líkan af tankinum sett upp og\n",
    "þar á eftir er með hermun spáð fyrir um breytingar í vatnshæð þar til jafnvægishæð er náð. Í lokaorðum eru niðurstöðurnar dregnar\n",
    "saman."
   ]
  },
  {
   "cell_type": "markdown",
   "id": "e59683c0",
   "metadata": {},
   "source": [
    "## Fræðilegt líkan\n",
    "\n",
    "Kerfið sem um ræðir er vatnstankur með botnflatarmálið $A$ og á botninum er úttak með flatarmál $a$. Samkvæmt fyrirmælum má gera ráð fyrir að um útstreymið úr tanknum ($q_{út}(t)$) gildi:\n",
    "\n",
    "\\begin{equation} \\label{eq:model_tank_outflow}\n",
    "q_{út}(t)=a\\sqrt{2gh(t)}\n",
    "\\end{equation}\n",
    "\n",
    "þar sem $g$ táknar þyngdarhröðun og $h(t)$ vatnshæðina í tanknum.\n",
    "\n",
    "Vatnshæðin í tanknum er háð bæði inn- og útflæðinu. Ef innflæðið er meira en útflæðið hækkar vatnsborðið og það lækkar ef útrennslið er meira en innrennslið. Það er vegna þess að mismunur á inn- og útrennsli er jafn breytingu \n",
    "í rúmmáli vatnsins í tanknum sem tákna má stærðfræðilega sem\n",
    "\n",
    "\\begin{equation} \\label{eq:model_tank_1}\n",
    "\\frac{dV(t)}{dt}=\\frac{dh(t)}{dt}A=q_{inn}(t)-q_{út}(t)\n",
    "\\end{equation}\n",
    "\n",
    "Ef við setjum jöfnuna fyrir útflæðið inn í jöfnuna hér fyrir ofan fáum við\n",
    "\n",
    "\\begin{equation} \\label{eq:model_tank_2}\n",
    "\\frac{dh(t)}{dt}A=q_{inn}(t)-a\\sqrt{2gh(t)}\n",
    "\\end{equation}\n",
    "\n",
    "Ef $q_{inn}(t)=Q_0$, þ.e. innflæðið er fast frá því að það er sett í gang við $t_0$, þá hækkar hæðin þar til innflæðið er jafnt og útflæðið. Þá verður $dh(t)/dt=0$ og hægt að finna jafnvægishæðina ($h_0$) út frá\n",
    "\n",
    "\\begin{equation} \\label{eq:tank_eq_height_1}\n",
    "Q_0=a\\sqrt{2gh_0}\n",
    "\\end{equation}\n",
    "\n",
    "\\begin{equation} \\label{eq:tank_eq_height_2}\n",
    "h_0=\\frac{1}{2g}\\left(\\frac{Q_0}{a}\\right)^2\n",
    "\\end{equation}\n",
    "\n",
    "Við getum hinsvegar reiknað út hvernig $h(t)$ nær jafnvægi með því að herma eftirfarandi (ólínulegu) diffurjöfnu\n",
    "\n",
    "\\begin{equation} \\label{eq:model_tank_3}\n",
    "\\frac{dh(t)}{dt}A+a\\sqrt{2gh(t)}=Q_0\n",
    "\\end{equation}"
   ]
  },
  {
   "cell_type": "markdown",
   "id": "9c55d1f3",
   "metadata": {},
   "source": [
    "## Hermun\n",
    "\n",
    "Í þessum hluta hermun við jöfnuna hér að ofan. Við nýtum okkur að afleiðan af $f(x)$ er skilgreind sem\n",
    "\n",
    "\\begin{equation} \\label{eq:derivation_1}\n",
    "f'(t)=\\lim_{\\Delta t \\to 0}\\frac{f(t+\\Delta t)-f(t)}{\\Delta t}\n",
    "\\end{equation}\n",
    "\n",
    "og ef við veljum $\\Delta t$ nægilega lítið þá getum við skrifað\n",
    "    \n",
    "\\begin{equation} \\label{eq:derivation_2}\n",
    "f(t+\\Delta t)=f(t)+{\\Delta t}f'(t)\n",
    "\\end{equation}\n",
    "\n",
    "Ef upphafstími hermunarinnar er $t_0$ og $f(t_0)$ er gefið getum við reiknað $f(t_i)$ fyrir $i \\in {1,2,...,n}$ með \n",
    "\n",
    "\\begin{equation}\n",
    "f(t_i)=f(t_{i-1})+{\\Delta t}f'(t_{i-1})\n",
    "\\end{equation}\n",
    "\n",
    "þar sem $t_i=t_{i-1}+{\\Delta t}$. \n",
    "\n",
    "Fyrir diffurjöfnuna okkar gildir að\n",
    "\n",
    "\\begin{equation} \n",
    "h'(t)A+a\\sqrt{2gh(t)}=Q_0\n",
    "\\end{equation}\n",
    "\n",
    "sem við endurröðum til að fá\n",
    "\n",
    "\\begin{equation}\n",
    "h'(t)=\\frac{1}{A}\\left(Q_0-a\\sqrt{2gh(t)}\\right)\n",
    "\\end{equation}\n",
    "\n",
    "Grunnjafnan í hermuninni verður því\n",
    "\n",
    "\\begin{equation}\n",
    "h(t_i)=h(t_{i-1})+{\\Delta t}h'(t_{i-1})=h(t_{i-1})+{\\Delta t}\\frac{1}{A}\\left(Q_0-a\\sqrt{2gh(t_{i-1})}\\right)\n",
    "\\end{equation}\n",
    "\n",
    "þar sem tankurinn er tómur í upphafi er $h(t_0)=0$.\n",
    "\n",
    "Hér fyrir neðan er kóði sem keyrir hermunina fyrir valin gildi á $A$, $a$, og $Q_0$ og birtir niðurstöður á myndrænan hátt. Fræðileg jafnvægishæð er merkt inn sem aðfella."
   ]
  },
  {
   "cell_type": "code",
   "execution_count": 88,
   "id": "3e4d4799",
   "metadata": {},
   "outputs": [
    {
     "name": "stdout",
     "output_type": "stream",
     "text": [
      "Útreiknuð jafnvægishæð:  0.09894646840072047 m\n"
     ]
    },
    {
     "data": {
      "image/png": "[encoded data removed]",
      "text/plain": [
       "<Figure size 432x288 with 1 Axes>"
      ]
     },
     "metadata": {
      "needs_background": "light"
     },
     "output_type": "display_data"
    }
   ],
   "source": [
    "import numpy as np\n",
    "import matplotlib.pyplot as plt\n",
    "\n",
    "#Breytur tanksins (Einingar: A (m^2), a (m^2), Q_0 (m^3/s))\n",
    "A = 0.3 * 0.3\n",
    "a = (0.004)**2 * np.pi\n",
    "Q_0 = 7e-5\n",
    "\n",
    "#Þyngdarhröðun\n",
    "g = 9.8\n",
    "\n",
    "#Útreiknuð jafnvægishæð\n",
    "h_eq = (1 / (2 * g)) * pow(Q_0 / a, 2)\n",
    "print(\"Útreiknuð jafnvægishæð: \", h_eq, \"m\")\n",
    "\n",
    "# Hermun\n",
    "delta_t = 1\n",
    "def_eq = 0.99 * h_eq # Skilgreini hvar jafnvægi er náð, þ.e. hvenær hermun er stöðvuð.\n",
    "T_simulation = 60 * 60 # Set hámarkstíma á hermun.\n",
    "N_simulation = int( T_simulation / delta_t ) # Bý til stærri vigur en ég þarf. Er núll eftir að hermun líkur.\n",
    "h = np.zeros(N_simulation)\n",
    "\n",
    "for t in range(1,N_simulation):\n",
    "    h[t] = h[t-1] + delta_t * (1 / A) * (Q_0 - a * np.sqrt(2 * g * h[t-1]))\n",
    "    if( h[t] > def_eq):\n",
    "        break\n",
    "\n",
    "# Myndir\n",
    "# Stytti h vigur með því að henda burtu núllum í lokin. Passa að aðrir vigar séu jafn langir.\n",
    "nz_idx = np.nonzero(h)\n",
    "h = h[0:nz_idx[0][-1]]\n",
    "time = np.arange(len(h)) * delta_t\n",
    "h_eq_calc = h_eq * np.ones(len(h))\n",
    "\n",
    "fig, ax = plt.subplots()\n",
    "ax.set_xlabel('s')\n",
    "ax.set_ylabel('h [m]')\n",
    "\n",
    "ax.plot(time, h)\n",
    "ax.plot(time, h_eq_calc ,color=\"gray\")\n",
    "\n",
    "plt.show()"
   ]
  },
  {
   "cell_type": "markdown",
   "id": "444882d6",
   "metadata": {},
   "source": [
    "## Lokaorð\n",
    "Hermun sýnir að hæðin vex hratt í fyrstu þegar innflæðið er talsvert meira en útflæðið en vex svo hægar eftir því sem útflæðið færist nær innflæðinu. Niðurstöður hermunarinnar um jafnvægishæð eru í samræmi við útreiknað gildi. Það er áhugavert að samkvæmt líkaninu er jafnvægishæðin einungis háð innflæði og flatarmáli úttaksins en óháð flatarmáli tanksins."
   ]
  }
 ],
 "metadata": {
  "kernelspec": {
   "display_name": "Python 3 (ipykernel)",
   "language": "python",
   "name": "python3"
  },
  "language_info": {
   "codemirror_mode": {
    "name": "ipython",
    "version": 3
   },
   "file_extension": ".py",
   "mimetype": "text/x-python",
   "name": "python",
   "nbconvert_exporter": "python",
   "pygments_lexer": "ipython3",
   "version": "3.9.7"
  }
 },
 "nbformat": 4,
 "nbformat_minor": 5
}
