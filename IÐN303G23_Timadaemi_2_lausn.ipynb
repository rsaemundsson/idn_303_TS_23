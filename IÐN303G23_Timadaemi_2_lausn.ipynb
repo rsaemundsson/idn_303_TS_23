{
 "cells": [
  {
   "cell_type": "code",
   "execution_count": 2,
   "id": "67e39b56",
   "metadata": {},
   "outputs": [],
   "source": [
    "import numpy as np\n",
    "import matplotlib.pyplot as plt\n",
    "import control as ct"
   ]
  },
  {
   "cell_type": "code",
   "execution_count": 6,
   "id": "4083b2d7",
   "metadata": {},
   "outputs": [
    {
     "name": "stdout",
     "output_type": "stream",
     "text": [
      "\n",
      "   1\n",
      "-------\n",
      "4 s + 1\n",
      "\n",
      "\n",
      "1\n",
      "-\n",
      "s\n",
      "\n"
     ]
    }
   ],
   "source": [
    "A = 1\n",
    "K_v = 1\n",
    "T_v = 4\n",
    "\n",
    "G_1 = ct.tf([K_v],[T_v, 1])\n",
    "G_2 = ct.tf([1],[A,0])\n",
    "print(G_1)\n",
    "print(G_2)"
   ]
  },
  {
   "cell_type": "code",
   "execution_count": 7,
   "id": "bfa9b8c8",
   "metadata": {},
   "outputs": [
    {
     "name": "stdout",
     "output_type": "stream",
     "text": [
      "\n",
      "      1\n",
      "-------------\n",
      "4 s^2 + s + 1\n",
      "\n"
     ]
    }
   ],
   "source": [
    "G_T = ct.feedback(ct.series(G_1,G_2),1)\n",
    "print(G_T)"
   ]
  },
  {
   "cell_type": "code",
   "execution_count": 8,
   "id": "590b3960",
   "metadata": {},
   "outputs": [
    {
     "data": {
      "text/plain": [
       "Text(0, 0.5, 'útslag')"
      ]
     },
     "execution_count": 8,
     "metadata": {},
     "output_type": "execute_result"
    },
    {
     "data": {
      "image/png": "[encoded data removed]",
      "text/plain": [
       "<Figure size 432x288 with 1 Axes>"
      ]
     },
     "metadata": {
      "needs_background": "light"
     },
     "output_type": "display_data"
    }
   ],
   "source": [
    "t,y = ct.step_response(G_T)\n",
    "plt.plot(t,y)\n",
    "plt.grid()\n",
    "plt.xlabel('sek')\n",
    "plt.ylabel('útslag')"
   ]
  },
  {
   "cell_type": "code",
   "execution_count": null,
   "id": "fbb88c54",
   "metadata": {},
   "outputs": [],
   "source": []
  }
 ],
 "metadata": {
  "kernelspec": {
   "display_name": "Python 3 (ipykernel)",
   "language": "python",
   "name": "python3"
  },
  "language_info": {
   "codemirror_mode": {
    "name": "ipython",
    "version": 3
   },
   "file_extension": ".py",
   "mimetype": "text/x-python",
   "name": "python",
   "nbconvert_exporter": "python",
   "pygments_lexer": "ipython3",
   "version": "3.9.7"
  }
 },
 "nbformat": 4,
 "nbformat_minor": 5
}
