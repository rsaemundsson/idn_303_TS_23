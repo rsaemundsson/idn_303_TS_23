{
 "cells": [
  {
   "cell_type": "markdown",
   "id": "7b33bd85",
   "metadata": {},
   "source": [
    "# IÐN303G Tæknileg kerfi - Sýnidæmi 3"
   ]
  },
  {
   "cell_type": "markdown",
   "id": "32d34514",
   "metadata": {},
   "source": [
    "## Inngangur\n",
    "Markmiðið með þessu sýnidæmi er að sýna hvernig hægt er að nota control forritasafnið (e. library) til að skilgreina yfirfærsluföll og vinna með þau, þ.m.t. skoða tíma- og tíðnisvörun þeirra."
   ]
  },
  {
   "cell_type": "code",
   "execution_count": null,
   "id": "449844ff",
   "metadata": {},
   "outputs": [],
   "source": [
    "!pip install control"
   ]
  },
  {
   "cell_type": "code",
   "execution_count": null,
   "id": "052f2843",
   "metadata": {},
   "outputs": [],
   "source": [
    "import numpy as np\n",
    "import matplotlib.pyplot as plt\n",
    "import control as ct"
   ]
  },
  {
   "cell_type": "markdown",
   "id": "da96e02d",
   "metadata": {},
   "source": [
    "Í control forritasafninu eru föll þar sem hægt er að nota til að skilgreina yfirfærsluföll. \n",
    "\n",
    "Til dæmis eru yfirfærsluföllin\n",
    "\n",
    "\\begin{equation}\n",
    "G_1(s)=\\frac{3}{4s^2+s+1}\n",
    "\\end{equation}\n",
    "\n",
    "og\n",
    "\n",
    "\\begin{equation}\n",
    "G_2(s)=\\frac{4.3}{1.6s+1}\n",
    "\\end{equation}\n",
    "\n",
    "skilgreind á eftirfarandi hátt með fallinu tf. Athugið að stuðlar í teljara og nefnara eru gefnir sem vigrar þar sem talan lengst til hægri er stuðullinn fyrir $s^0$ og stuðullinn vinstra meginn við hann er fyrir $s^1$ og svo í hærra veldi af $s$ eftir því sem farið er lengra til vinstri."
   ]
  },
  {
   "cell_type": "code",
   "execution_count": null,
   "id": "c9fa861c",
   "metadata": {},
   "outputs": [],
   "source": [
    "G1=ct.tf([3.],[4.,1.,1.])\n",
    "G2=ct.tf([4.3],[1.6,1.])\n",
    "print(G1)\n",
    "print(G2)"
   ]
  },
  {
   "cell_type": "markdown",
   "id": "97c43852",
   "metadata": {},
   "source": [
    "Hægt er að tengja saman yfirfærsluföll, hvort heldur sem þau eru raðtengd, hliðtengd eða tengd með afturvirkni.\n",
    "\n",
    "Ef föllin eru raðtengd þá eru þau margfölduð saman og ef þau eru hliðtengd má eru þau lögð saman. Það má líka nota\n",
    "skipanirnar $series$ eða $parallel$. Ef föllin eru tengd saman með afturvirkni er notuð skipunin $feedback$."
   ]
  },
  {
   "cell_type": "code",
   "execution_count": null,
   "id": "66b7e9ca",
   "metadata": {},
   "outputs": [],
   "source": [
    "print(G1*G2)\n",
    "print(ct.series(G1,G2))"
   ]
  },
  {
   "cell_type": "code",
   "execution_count": null,
   "id": "81bafd75",
   "metadata": {},
   "outputs": [],
   "source": [
    "print(G1+G2)\n",
    "print(ct.parallel(G1,G2))"
   ]
  },
  {
   "cell_type": "code",
   "execution_count": null,
   "id": "5f8be445",
   "metadata": {
    "scrolled": true
   },
   "outputs": [],
   "source": [
    "print(ct.feedback(G1,G2))"
   ]
  },
  {
   "cell_type": "markdown",
   "id": "193aaf9b",
   "metadata": {},
   "source": [
    "Á einfaldan hátt má skoða tímasvörun yfirfærslufalls, þ.e. svörun við einingaþrepafalli."
   ]
  },
  {
   "cell_type": "code",
   "execution_count": null,
   "id": "59916a66",
   "metadata": {},
   "outputs": [],
   "source": [
    "t,y = ct.step_response(G1)\n",
    "plt.plot(t,y)\n",
    "plt.grid()\n",
    "plt.xlabel('sek')\n",
    "plt.ylabel('útslag')"
   ]
  },
  {
   "cell_type": "markdown",
   "id": "d7bee5ee",
   "metadata": {},
   "source": [
    "Einnig má finna tíðnisvörun yfirfærslufalls og birta í svokölluðum Bode ritum sem sýna útslag og fasa sem fall af\n",
    "horntíðni (rad/sek). Venjan er að hafa útslag og horntíðni á logaritmiskum kvarða."
   ]
  },
  {
   "cell_type": "code",
   "execution_count": null,
   "id": "b80e9385",
   "metadata": {
    "scrolled": true
   },
   "outputs": [],
   "source": [
    "mag,phase,omega=ct.bode(G1)"
   ]
  },
  {
   "cell_type": "markdown",
   "id": "cb37a3ca",
   "metadata": {},
   "source": [
    "Það er líka hægt að hafa fasann í einingunni rad."
   ]
  },
  {
   "cell_type": "code",
   "execution_count": null,
   "id": "860654d6",
   "metadata": {},
   "outputs": [],
   "source": [
    "mag,phase,omega=ct.bode(G1, deg=False)"
   ]
  },
  {
   "cell_type": "markdown",
   "id": "7deb5507",
   "metadata": {},
   "source": [
    "Það má líka teikna niðurstöðuna bode fallið skilar á línulegum kvarða."
   ]
  },
  {
   "cell_type": "code",
   "execution_count": null,
   "id": "01bb40c5",
   "metadata": {},
   "outputs": [],
   "source": [
    "fig, axs = plt.subplots(2, 1)\n",
    "axs[0].plot(omega[:600],mag[:600])\n",
    "axs[0].set_ylim(0, 7)\n",
    "axs[0].set_xlabel('rad/sek')\n",
    "axs[0].set_ylabel('mögnun')\n",
    "axs[0].grid(True)\n",
    "\n",
    "axs[1].plot(omega[:600],phase[:600])\n",
    "axs[1].set_ylim(-3, 0)\n",
    "axs[1].set_xlabel('rad/sek')\n",
    "axs[1].set_ylabel('fasi (rad)')\n",
    "axs[1].grid(True)\n",
    "\n",
    "fig.tight_layout()\n",
    "plt.show()"
   ]
  },
  {
   "cell_type": "code",
   "execution_count": null,
   "id": "6f0c3143",
   "metadata": {},
   "outputs": [],
   "source": []
  }
 ],
 "metadata": {
  "kernelspec": {
   "display_name": "Python 3 (ipykernel)",
   "language": "python",
   "name": "python3"
  },
  "language_info": {
   "codemirror_mode": {
    "name": "ipython",
    "version": 3
   },
   "file_extension": ".py",
   "mimetype": "text/x-python",
   "name": "python",
   "nbconvert_exporter": "python",
   "pygments_lexer": "ipython3",
   "version": "3.9.7"
  }
 },
 "nbformat": 4,
 "nbformat_minor": 5
}
