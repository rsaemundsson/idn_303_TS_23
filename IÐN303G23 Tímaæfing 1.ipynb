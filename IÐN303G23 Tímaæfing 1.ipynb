{
 "cells": [
  {
   "cell_type": "markdown",
   "id": "9763cae3",
   "metadata": {},
   "source": [
    "## Inngangur\n",
    "Markmiðið með þessari æfingu er að leysa einfalda diffurjöfnu með hermun.\n",
    "\n",
    "Jafnan sem við viljum leysa er:\n",
    "\\begin{equation} \\label{eq:diff_eq}\n",
    "y'(t)+y(t)=u(t)\n",
    "\\end{equation}\n",
    "\n",
    "Til að finna lausnina þá nýtum við okkur að afleiða fallsins $f(t)$ er skilgreind sem\n",
    "\n",
    "\\begin{equation} \\label{eq:derivation_1}\n",
    "f'(t)=\\lim_{\\Delta t \\to 0}\\frac{f(t+\\Delta t)-f(t)}{\\Delta t}\n",
    "\\end{equation}\n",
    "\n",
    "og ef við veljum $\\Delta t$ nægilega lítið þá getum við skrifað\n",
    "    \n",
    "\\begin{equation} \\label{eq:derivation_2}\n",
    "f(t+\\Delta t)=f(t)+{\\Delta t}f'(t)\n",
    "\\end{equation}\n",
    "\n",
    "Ef við köllum upphafstíma hermunarinnar $t_0$ þá getum við reiknað gildið fyrir næsta tímapunkt $t_1=t_0+\\Delta t$ samkvæmt\n",
    "\n",
    "\\begin{equation} \\label{eq:derivation_3}\n",
    "f(t_1)=f(t_0)+{\\Delta t}f'(t_0)\n",
    "\\end{equation}\n",
    "\n",
    "og gildið fyrir $t_2=t_1+\\Delta t$ sem\n",
    "\n",
    "\\begin{equation} \\label{eq:derivation_4}\n",
    "f(t_2)=f(t_1)+{\\Delta t}f'(t_1)\n",
    "\\end{equation}\n",
    "\n",
    "og svo koll af kolli eins lengi og við kærum okkur um.\n",
    "\n",
    "Samkvæmt diffurjöfnunni okkar þá er\n",
    "\\begin{equation} \\label{eq:diff_eq_y_prime}\n",
    "y'(t)=u(t)-y(t)\n",
    "\\end{equation}\n",
    "\n",
    "þannig að\n",
    "\n",
    "\\begin{equation} \\label{eq:diff_eq_solution}\n",
    "y(t_1)=y(t_0)+{\\Delta t}y'(t_0)=y(t_0)+{\\Delta t}(u(t_0)-y(t_0))=(1-{\\Delta t})y(t_0)+{\\Delta t}u(t_0)\n",
    "\\end{equation}\n",
    "\n",
    "Skrifið Python forrit sem reiknar út lausnina $y(t)$ fyrir $t \\in [0,10]$ ef ${\\Delta t}=0.1$, $u(t)=1$ og $y(0)=0$. Notið matplotlib til að teikna niðurstöðurnar úr hermuninni og bera saman við nákvæma lausn sem er\n",
    "\n",
    "\\begin{equation} \\label{eq:diff_eq_solution_exact}\n",
    "y(t)=1-e^{-t}\n",
    "\\end{equation}"
   ]
  },
  {
   "cell_type": "code",
   "execution_count": null,
   "id": "f0e84f5c",
   "metadata": {},
   "outputs": [],
   "source": []
  }
 ],
 "metadata": {
  "kernelspec": {
   "display_name": "Python 3 (ipykernel)",
   "language": "python",
   "name": "python3"
  },
  "language_info": {
   "codemirror_mode": {
    "name": "ipython",
    "version": 3
   },
   "file_extension": ".py",
   "mimetype": "text/x-python",
   "name": "python",
   "nbconvert_exporter": "python",
   "pygments_lexer": "ipython3",
   "version": "3.9.7"
  }
 },
 "nbformat": 4,
 "nbformat_minor": 5
}
