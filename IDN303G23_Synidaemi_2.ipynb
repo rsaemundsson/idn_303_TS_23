{
 "cells": [
  {
   "cell_type": "markdown",
   "id": "6e9351db",
   "metadata": {},
   "source": [
    "# IÐN303G Tæknileg kerfi - Sýnidæmi 2"
   ]
  },
  {
   "cell_type": "markdown",
   "id": "74c08f08",
   "metadata": {},
   "source": [
    "## Inngangur\n",
    "Markmiðið með þessu sýnidæmi er að sýna hvernig hægt er að blanda saman texta, jöfnum og kóða í Jupyter/Colab skjölum. Forsendan fyrir því er að skjölin eru samsett úr reitum (e. cells) sem geta annars vegar geymt svokallaðan markdown texta og hins vegar kóða (e. code). Þegar reitur er keyrður (e. run) þá er textinn formaður eða kóðinn keyrður."
   ]
  },
  {
   "cell_type": "markdown",
   "id": "e59683c0",
   "metadata": {},
   "source": [
    "## Texti og jöfnur\n",
    "\n",
    "Sérstakt markdown tungumál hefur verið skilgreind fyrir Jupyter skjöl. Það er hægt að finna ýmsar upplýsingar um það á Netinu en hér fyrir neðan má sjá dæmi um nokkur einföld atriði. Tvísmellið á reitinn til að sjá markdown textann og smellið á \"Run\" hnappinn til að sjá hvernig endanlegi textinn lýtur út.\n",
    "\n",
    "Hægt er að *skáletra* og **feitletra** og setja upp fyrirsagnir og lista.\n",
    "\n",
    "# Fyrsta fyrirsögn\n",
    "## Önnur fyrirsögn\n",
    "### Þriðja fyrirsögn\n",
    "\n",
    "Punktalisti:\n",
    "- fyrsta atriði\n",
    "    - fyrsta undiratriði\n",
    "    - annað undiratriði\n",
    "- annað atriði\n",
    "\n",
    "Númeraður listi:\n",
    "1. fyrsta atriði\n",
    "1. annað atriði\n",
    "1. þriðja atriði\n",
    "\n",
    "Einnig er hægt er að nota Latex skipanir fyrir jöfnur. Bæði er hægt að setja jöfnur inn í textann $u=iR$ en svo er líka hægt að hafa jöfnurnar í eigin línum, t.d.\n",
    "\n",
    "\\begin{equation} \\label{eq:derivation_1}\n",
    "f'(t)=\\lim_{\\Delta t \\to 0}\\frac{f(t+\\Delta t)-f(t)}{\\Delta t}\n",
    "\\end{equation}\n",
    "\n",
    "og blanda öllu saman eins og hér:\n",
    "\n",
    "Ef upphafstími hermunarinnar er $t_0$ og $f(t_0)$ er gefið getum við reiknað $f(t_i)$ fyrir $i \\in {1,2,...,n}$ með \n",
    "\n",
    "\\begin{equation}\n",
    "f(t_i)=f(t_{i-1})+{\\Delta t}f'(t_{i-1})\n",
    "\\end{equation}\n",
    "\n",
    "þar sem $t_i=t_{i-1}+{\\Delta t}$. \n",
    "\n",
    "Það er auðvelt að fá hjálp á netinu við að finna Latex skipanir sem þarf."
   ]
  },
  {
   "cell_type": "code",
   "execution_count": 4,
   "id": "3e4d4799",
   "metadata": {},
   "outputs": [
    {
     "data": {
      "image/png": "[encoded data removed]",
      "text/plain": [
       "<Figure size 432x288 with 1 Axes>"
      ]
     },
     "metadata": {
      "needs_background": "light"
     },
     "output_type": "display_data"
    }
   ],
   "source": [
    "import numpy as np\n",
    "import matplotlib.pyplot as plt\n",
    "\n",
    "N = 10\n",
    "inntak = np.ones(N)\n",
    "\n",
    "uttak_1 = np.zeros(N)\n",
    "\n",
    "for i in range(1,N):\n",
    "    uttak_1[i] = uttak_1[i - 1] + 0.1 * inntak[i]\n",
    "    \n",
    "uttak_2 = np.zeros(N)\n",
    "m = 0.1\n",
    "\n",
    "for i in range(1,N):\n",
    "    if (i == 3):\n",
    "        m = 0.3\n",
    "    elif (i == 5):\n",
    "        m = 0.5\n",
    "    else:\n",
    "        m = 0.1\n",
    "        \n",
    "    uttak_2[i] = uttak_2[i - 1] + m * inntak[i]\n",
    "\n",
    "fig, ax = plt.subplots()\n",
    "ax.plot(uttak_1)\n",
    "ax.plot(uttak_2)\n",
    "ax.legend([\"Úttak 1\", \"Úttak 2\"])\n",
    "\n",
    "plt.grid()\n",
    "plt.xlim([0,10])\n",
    "plt.ylim([0,2])\n",
    "\n",
    "plt.show()"
   ]
  },
  {
   "cell_type": "markdown",
   "id": "74647eef",
   "metadata": {},
   "source": [
    "Í reitnum hér á undan var skrifaður kóði og þegar hann er keyrður er niðurstaða sýnd. Hér væri hægt að skrifa texta sem túlkaði niðurstöðurnar. Í næsta reit væri hægt að byrja á nýjum kafla i skjalinu með því byrja á fyrirsögn."
   ]
  },
  {
   "cell_type": "code",
   "execution_count": null,
   "id": "a44f935d",
   "metadata": {},
   "outputs": [],
   "source": []
  }
 ],
 "metadata": {
  "kernelspec": {
   "display_name": "Python 3 (ipykernel)",
   "language": "python",
   "name": "python3"
  },
  "language_info": {
   "codemirror_mode": {
    "name": "ipython",
    "version": 3
   },
   "file_extension": ".py",
   "mimetype": "text/x-python",
   "name": "python",
   "nbconvert_exporter": "python",
   "pygments_lexer": "ipython3",
   "version": "3.9.7"
  }
 },
 "nbformat": 4,
 "nbformat_minor": 5
}
